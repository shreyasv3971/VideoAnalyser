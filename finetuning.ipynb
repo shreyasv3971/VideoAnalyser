{
 "cells": [
  {
   "cell_type": "code",
   "execution_count": 1,
   "metadata": {},
   "outputs": [
    {
     "name": "stdout",
     "output_type": "stream",
     "text": [
      "Collecting jsonlines\n",
      "  Using cached jsonlines-4.0.0-py3-none-any.whl.metadata (1.6 kB)\n",
      "Requirement already satisfied: attrs>=19.2.0 in c:\\programdata\\miniconda3\\envs\\car\\lib\\site-packages (from jsonlines) (24.2.0)\n",
      "Using cached jsonlines-4.0.0-py3-none-any.whl (8.7 kB)\n",
      "Installing collected packages: jsonlines\n",
      "Successfully installed jsonlines-4.0.0\n",
      "Note: you may need to restart the kernel to use updated packages.\n"
     ]
    }
   ],
   "source": [
    "pip install jsonlines\n"
   ]
  },
  {
   "cell_type": "code",
   "execution_count": 3,
   "metadata": {},
   "outputs": [],
   "source": [
    "import os\n",
    "import jsonlines\n",
    "import numpy as np\n",
    "from PIL import Image\n",
    "from sklearn.metrics import accuracy_score\n",
    "from nltk.translate.bleu_score import sentence_bleu\n",
    "import matplotlib.pyplot as plt\n",
    "import torch\n",
    "from torch.utils.data import Dataset, DataLoader\n",
    "from transformers import AutoModelForCausalLM, AutoTokenizer, AdamW"
   ]
  },
  {
   "cell_type": "code",
   "execution_count": 8,
   "metadata": {},
   "outputs": [
    {
     "name": "stderr",
     "output_type": "stream",
     "text": [
      "PhiForCausalLM has generative capabilities, as `prepare_inputs_for_generation` is explicitly overwritten. However, it doesn't directly inherit from `GenerationMixin`. From 👉v4.50👈 onwards, `PreTrainedModel` will NOT inherit from `GenerationMixin`, and this model will lose the ability to call `generate` and other related functions.\n",
      "  - If you're using `trust_remote_code=True`, you can get rid of this warning by loading the model with an auto class. See https://huggingface.co/docs/transformers/en/model_doc/auto#auto-classes\n",
      "  - If you are the owner of the model architecture code, please modify your model class such that it inherits from `GenerationMixin` (after `PreTrainedModel`, otherwise you'll get an exception).\n",
      "  - If you are not the owner of the model architecture class, please contact the model code owner to update it.\n"
     ]
    },
    {
     "ename": "",
     "evalue": "",
     "output_type": "error",
     "traceback": [
      "\u001b[1;31mThe Kernel crashed while executing code in the the current cell or a previous cell. Please review the code in the cell(s) to identify a possible cause of the failure. Click <a href='https://aka.ms/vscodeJupyterKernelCrash'>here</a> for more info. View Jupyter <a href='command:jupyter.viewOutput'>log</a> for further details."
     ]
    }
   ],
   "source": [
    "model_id = \"vikhyatk/moondream2\"\n",
    "model = AutoModelForCausalLM.from_pretrained(model_id, trust_remote_code=True).to(device)\n",
    "tokenizer = AutoTokenizer.from_pretrained(model_id)\n"
   ]
  },
  {
   "cell_type": "code",
   "execution_count": 4,
   "metadata": {},
   "outputs": [],
   "source": [
    "DESCRIPTIONS_PATH = r\"C:\\Users\\shrey\\Downloads\\mini_project\\docci\\docci_descriptions.jsonlines\"\n",
    "METADATA_PATH = r\"C:\\Users\\shrey\\Downloads\\mini_project\\docci\\docci_metadata.jsonlines\"\n",
    "IMAGES_DIR = r\"C:\\Users\\shrey\\Downloads\\mini_project\\docci\\images\""
   ]
  },
  {
   "cell_type": "code",
   "execution_count": 5,
   "metadata": {},
   "outputs": [],
   "source": [
    "class DOCCIDataset(Dataset):\n",
    "    def __init__(self, descriptions_path, metadata_path, images_dir, tokenizer, transform=None):\n",
    "        self.images_dir = images_dir\n",
    "        self.transform = transform\n",
    "        self.tokenizer = tokenizer\n",
    "        self.data = []\n",
    "\n",
    "        # Load descriptions\n",
    "        with jsonlines.open(descriptions_path, 'r') as reader:\n",
    "            for line in reader:\n",
    "                self.data.append(line)\n",
    "\n",
    "        # Load metadata (if needed)\n",
    "        with jsonlines.open(metadata_path, 'r') as reader:\n",
    "            self.metadata = {line[\"example_id\"]: line for line in reader}\n",
    "\n",
    "    def __len__(self):\n",
    "        return len(self.data)\n",
    "\n",
    "    def __getitem__(self, idx):\n",
    "        sample = self.data[idx]\n",
    "        image_path = os.path.join(self.images_dir, sample[\"image_file\"])\n",
    "        \n",
    "        # Load image\n",
    "        image = Image.open(image_path).convert(\"RGB\")\n",
    "        if self.transform:\n",
    "            image = self.transform(image)\n",
    "\n",
    "        # Load question-answer pair\n",
    "        question = sample['description']  # Assuming question is in the description\n",
    "        answer = self.metadata[sample['example_id']]['answer']  # Assuming answer in metadata\n",
    "\n",
    "        return {'image': image, 'question': question, 'answer': answer}\n"
   ]
  },
  {
   "cell_type": "code",
   "execution_count": 6,
   "metadata": {},
   "outputs": [],
   "source": [
    "from torchvision import transforms\n",
    "transform = transforms.Compose([\n",
    "    transforms.Resize((224, 224)),  # Resize images to 224x224 (adjust as needed)\n",
    "    transforms.ToTensor(),\n",
    "    transforms.Normalize(mean=[0.485, 0.456, 0.406], std=[0.229, 0.224, 0.225])\n",
    "])"
   ]
  },
  {
   "cell_type": "code",
   "execution_count": null,
   "metadata": {},
   "outputs": [],
   "source": [
    "train_dataset = DOCCIDataset(DESCRIPTIONS_PATH, METADATA_PATH, IMAGES_DIR, tokenizer, transform)\n",
    "train_loader = DataLoader(train_dataset, batch_size=8, shuffle=True)"
   ]
  },
  {
   "cell_type": "code",
   "execution_count": null,
   "metadata": {},
   "outputs": [],
   "source": [
    "def evaluate_model(model, dataset, tokenizer, num_samples=100):\n",
    "    correct_predictions = 0\n",
    "    total_predictions = 0\n",
    "    bleu_scores = []\n",
    "\n",
    "    for i, sample in enumerate(dataset):\n",
    "        if i >= num_samples:\n",
    "            break\n",
    "\n",
    "        question = sample['question']\n",
    "        true_answer = sample['answer']\n",
    "\n",
    "        # Predict answer using the model\n",
    "        predicted_answer = model.answer_question(\n",
    "            model.encode_image(sample['image']),\n",
    "            question,\n",
    "            tokenizer=tokenizer,\n",
    "            num_beams=4,\n",
    "            no_repeat_ngram_size=5,\n",
    "            early_stopping=True\n",
    "        )\n",
    "\n",
    "        # Calculate accuracy\n",
    "        if predicted_answer.strip().lower() == true_answer.strip().lower():\n",
    "            correct_predictions += 1\n",
    "        total_predictions += 1\n",
    "\n",
    "        # Calculate BLEU score\n",
    "        bleu_scores.append(sentence_bleu([true_answer.split()], predicted_answer.split()))\n",
    "\n",
    "    # Average metrics\n",
    "    accuracy = correct_predictions / total_predictions if total_predictions > 0 else 0\n",
    "    avg_bleu = np.mean(bleu_scores)\n",
    "\n",
    "    print(f\"Accuracy: {accuracy:.2f}\")\n",
    "    print(f\"Average BLEU Score: {avg_bleu:.2f}\")\n",
    "    return accuracy, avg_bleu\n"
   ]
  },
  {
   "cell_type": "code",
   "execution_count": null,
   "metadata": {},
   "outputs": [],
   "source": [
    "baseline_accuracy, baseline_bleu = evaluate_model(model, train_loader, tokenizer)\n"
   ]
  },
  {
   "cell_type": "code",
   "execution_count": null,
   "metadata": {},
   "outputs": [],
   "source": [
    "training_losses = []\n",
    "optimizer = AdamW(model.parameters(), lr=5e-5)\n",
    "num_epochs = 2\n",
    "\n",
    "for epoch in range(num_epochs):\n",
    "    model.train()\n",
    "    for batch in train_loader:\n",
    "        images = batch['image']\n",
    "        questions = batch['question']\n",
    "        answers = batch['answer']\n",
    "\n",
    "        # Encode images and tokenize questions\n",
    "        encoded_images = model.encode_image(images)\n",
    "        tokenized_questions = tokenizer(questions, padding=True, truncation=True, return_tensors=\"pt\")\n",
    "\n",
    "        # Forward pass\n",
    "        outputs = model(encoded_images, tokenized_questions)\n",
    "        loss = outputs.loss\n",
    "        training_losses.append(loss.item())\n",
    "\n",
    "        # Backpropagation\n",
    "        loss.backward()\n",
    "        optimizer.step()\n",
    "        optimizer.zero_grad()\n",
    "\n",
    "    print(f\"Epoch {epoch+1}/{num_epochs} completed with loss: {loss.item()}\")\n"
   ]
  },
  {
   "cell_type": "code",
   "execution_count": null,
   "metadata": {},
   "outputs": [],
   "source": [
    "fine_tuned_accuracy, fine_tuned_bleu = evaluate_model(model, train_loader, tokenizer)\n"
   ]
  },
  {
   "cell_type": "code",
   "execution_count": null,
   "metadata": {},
   "outputs": [],
   "source": [
    "plt.figure(figsize=(10, 5))\n",
    "plt.plot(training_losses, label=\"Training Loss\")\n",
    "plt.xlabel(\"Training Steps\")\n",
    "plt.ylabel(\"Loss\")\n",
    "plt.title(\"Training Loss Over Time\")\n",
    "plt.legend()\n",
    "plt.show()"
   ]
  },
  {
   "cell_type": "code",
   "execution_count": null,
   "metadata": {},
   "outputs": [],
   "source": [
    "metrics = ['Accuracy', 'BLEU Score']\n",
    "baseline_scores = [baseline_accuracy, baseline_bleu]\n",
    "fine_tuned_scores = [fine_tuned_accuracy, fine_tuned_bleu]\n",
    "\n",
    "x = np.arange(len(metrics))\n",
    "width = 0.35\n",
    "\n",
    "\n",
    "fig, ax = plt.subplots(figsize=(10, 5))\n",
    "ax.bar(x - width/2, baseline_scores, width, label='Before Fine-Tuning')\n",
    "ax.bar(x + width/2, fine_tuned_scores, width, label='After Fine-Tuning')\n",
    "\n",
    "ax.set_xlabel('Metrics')\n",
    "ax.set_title('Model Performance Before and After Fine-Tuning')\n",
    "ax.set_xticks(x)\n",
    "ax.set_xticklabels(metrics)\n",
    "ax.legend()\n",
    "\n",
    "plt.show()"
   ]
  }
 ],
 "metadata": {
  "kernelspec": {
   "display_name": "cars",
   "language": "python",
   "name": "python3"
  },
  "language_info": {
   "codemirror_mode": {
    "name": "ipython",
    "version": 3
   },
   "file_extension": ".py",
   "mimetype": "text/x-python",
   "name": "python",
   "nbconvert_exporter": "python",
   "pygments_lexer": "ipython3",
   "version": "3.12.4"
  }
 },
 "nbformat": 4,
 "nbformat_minor": 2
}
